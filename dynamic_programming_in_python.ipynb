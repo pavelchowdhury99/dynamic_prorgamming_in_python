{
 "cells": [
  {
   "attachments": {},
   "cell_type": "markdown",
   "metadata": {},
   "source": [
    "# Dynamic Programming In Python"
   ]
  },
  {
   "attachments": {},
   "cell_type": "markdown",
   "metadata": {},
   "source": [
    "### Key Points Dynamic Programming\n",
    "- Algorithmic approach for solving optimization problem.\n",
    "- Breaks into smaller sub problems and takes the most optimised approach for each sub problem.\n",
    "- Remembers the solution of all sub-problems and anytime we encounter that again, fetches the answer rather than recalculating."
   ]
  },
  {
   "attachments": {},
   "cell_type": "markdown",
   "metadata": {},
   "source": [
    "#### Where Dynamic Programming can Be applied?\n",
    "- Optimal Substructure<br>\n",
    "  e.g fib(n)=fib(n-1)+fib(n-2) <br><br>\n",
    "- Overlapping Sub problems<br><br>\n",
    "[<img src=\"https://i.stack.imgur.com/7iU1j.png\">]()"
   ]
  },
  {
   "cell_type": "code",
   "execution_count": 2,
   "metadata": {},
   "outputs": [],
   "source": [
    "from time import perf_counter"
   ]
  },
  {
   "cell_type": "code",
   "execution_count": null,
   "metadata": {},
   "outputs": [],
   "source": [
    "0,1,1,2,3,5,8,13.."
   ]
  },
  {
   "attachments": {},
   "cell_type": "markdown",
   "metadata": {},
   "source": [
    "#### Calculating Ficonacci Number using Recursion"
   ]
  },
  {
   "cell_type": "code",
   "execution_count": 4,
   "metadata": {},
   "outputs": [
    {
     "name": "stdout",
     "output_type": "stream",
     "text": [
      "9227465\n",
      "9.373310700058937\n"
     ]
    }
   ],
   "source": [
    "def fib(n):\n",
    "    if n==0:\n",
    "        return 0\n",
    "    if n==1:\n",
    "        return 1\n",
    "    return fib(n-1)+fib(n-2)\n",
    "\n",
    "s = perf_counter()\n",
    "print(fib(35))\n",
    "print(perf_counter()-s)"
   ]
  },
  {
   "attachments": {},
   "cell_type": "markdown",
   "metadata": {},
   "source": [
    "#### Calculating Fibonacci Number Using Dynamic Programming (Top Down/Memoization)"
   ]
  },
  {
   "cell_type": "code",
   "execution_count": 5,
   "metadata": {},
   "outputs": [
    {
     "name": "stdout",
     "output_type": "stream",
     "text": [
      "9227465\n",
      "0.001144799985922873\n"
     ]
    }
   ],
   "source": [
    "temp_dict = dict()\n",
    "\n",
    "def fib_dp_td(n):\n",
    "\n",
    "    if n==0:\n",
    "        return 0\n",
    "    if n==1:\n",
    "        return 1\n",
    "    \n",
    "    if temp_dict.get(n,-1)==-1:\n",
    "        temp_dict[n]=fib_dp_td(n-1)+fib_dp_td(n-2)\n",
    "\n",
    "    return temp_dict[n]\n",
    "\n",
    "t = perf_counter()\n",
    "print(fib_dp_td(35))\n",
    "print(perf_counter()-t)"
   ]
  },
  {
   "attachments": {},
   "cell_type": "markdown",
   "metadata": {},
   "source": [
    "#### Calculating Fibonacci Number Using Dynamic Programming (Bottom Up/Tabulation)"
   ]
  },
  {
   "cell_type": "code",
   "execution_count": 6,
   "metadata": {},
   "outputs": [
    {
     "name": "stdout",
     "output_type": "stream",
     "text": [
      "9227465\n",
      "0.0006218000780791044\n"
     ]
    }
   ],
   "source": [
    "def fib_dp_bu(n):\n",
    "\n",
    "    arr=[0]*(n+1)\n",
    "    arr[0],arr[1]=0,1\n",
    "\n",
    "    for i in range(2,n+1):\n",
    "        arr[i]=arr[i-2]+arr[i-1]\n",
    "    \n",
    "    return arr[-1]\n",
    "\n",
    "t = perf_counter()\n",
    "print(fib_dp_bu(35))\n",
    "print(perf_counter()-t)"
   ]
  },
  {
   "attachments": {},
   "cell_type": "markdown",
   "metadata": {},
   "source": [
    "### Differences between Top-Down vs Bottom-Up\n",
    "#### Top-Down\n",
    "1. It is similar to divide and conquer algorithm.\n",
    "2. Uses recursion under the hood and thus uses stack memory.\n",
    "3. Relatively slower than bottom-up approach.\n",
    "\n",
    "#### Bottom-Up\n",
    "1. It is formula based.\n",
    "2. Does not uses recursion and does not uses stack memory.\n",
    "3. Relatively faster than top-down approach."
   ]
  }
 ],
 "metadata": {
  "kernelspec": {
   "display_name": "venv",
   "language": "python",
   "name": "python3"
  },
  "language_info": {
   "codemirror_mode": {
    "name": "ipython",
    "version": 3
   },
   "file_extension": ".py",
   "mimetype": "text/x-python",
   "name": "python",
   "nbconvert_exporter": "python",
   "pygments_lexer": "ipython3",
   "version": "3.10.0"
  },
  "orig_nbformat": 4,
  "vscode": {
   "interpreter": {
    "hash": "112b485c3f3ddfdef3953c9064a5ad4b429d9246e188c6eaaa7dfdbc35b505c5"
   }
  }
 },
 "nbformat": 4,
 "nbformat_minor": 2
}
