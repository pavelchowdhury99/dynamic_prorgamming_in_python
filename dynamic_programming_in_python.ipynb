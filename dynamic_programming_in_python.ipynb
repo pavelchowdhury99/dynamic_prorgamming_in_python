{
 "cells": [
  {
   "attachments": {},
   "cell_type": "markdown",
   "metadata": {},
   "source": [
    "# Dynamic Programming In Python"
   ]
  },
  {
   "attachments": {},
   "cell_type": "markdown",
   "metadata": {},
   "source": [
    "Calculating Ficonacci Number using Recursion"
   ]
  },
  {
   "cell_type": "code",
   "execution_count": 22,
   "metadata": {},
   "outputs": [],
   "source": [
    "from time import perf_counter"
   ]
  },
  {
   "cell_type": "code",
   "execution_count": 25,
   "metadata": {},
   "outputs": [
    {
     "name": "stdout",
     "output_type": "stream",
     "text": [
      "9227465\n",
      "8.985084700048901\n"
     ]
    }
   ],
   "source": [
    "def fib(n):\n",
    "    if n==0:\n",
    "        return 0\n",
    "    if n==1:\n",
    "        return 1\n",
    "    return fib(n-1)+fib(n-2)\n",
    "\n",
    "s = perf_counter()\n",
    "print(fib(35))\n",
    "print(perf_counter()-s)"
   ]
  },
  {
   "cell_type": "code",
   "execution_count": 26,
   "metadata": {},
   "outputs": [
    {
     "name": "stdout",
     "output_type": "stream",
     "text": [
      "9227465\n",
      "0.0002875999780371785\n"
     ]
    }
   ],
   "source": [
    "def fib_dp(n):\n",
    "    if n==1:\n",
    "        return 1\n",
    "    if n==0:\n",
    "        return 0\n",
    "\n",
    "    arr=[-1]*(n+1)\n",
    "    arr[0],arr[1]=0,1\n",
    "\n",
    "    for i in range(2,n+1):\n",
    "        arr[i]=arr[i-1]+arr[i-2]\n",
    "    \n",
    "    return arr[-1]\n",
    "\n",
    "\n",
    "\n",
    "t = perf_counter()\n",
    "print(fib_dp(35))\n",
    "print(perf_counter()-t)"
   ]
  },
  {
   "cell_type": "code",
   "execution_count": null,
   "metadata": {},
   "outputs": [],
   "source": []
  }
 ],
 "metadata": {
  "kernelspec": {
   "display_name": "venv",
   "language": "python",
   "name": "python3"
  },
  "language_info": {
   "codemirror_mode": {
    "name": "ipython",
    "version": 3
   },
   "file_extension": ".py",
   "mimetype": "text/x-python",
   "name": "python",
   "nbconvert_exporter": "python",
   "pygments_lexer": "ipython3",
   "version": "3.10.0"
  },
  "orig_nbformat": 4,
  "vscode": {
   "interpreter": {
    "hash": "112b485c3f3ddfdef3953c9064a5ad4b429d9246e188c6eaaa7dfdbc35b505c5"
   }
  }
 },
 "nbformat": 4,
 "nbformat_minor": 2
}
